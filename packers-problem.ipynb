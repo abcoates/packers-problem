{
 "cells": [
  {
   "cell_type": "markdown",
   "metadata": {},
   "source": [
    "# Packer's Problem - from the F# Discord Server"
   ]
  },
  {
   "cell_type": "markdown",
   "metadata": {},
   "source": [
    "## Description\n",
    "\n",
    "You entrusted Petya, who works as a packer, with the responsible task of stacking boxes of different sizes\n",
    "one into another, and the instructions were the following:\n",
    "* The boxes must fit into each other (the total size of the boxes lying next to each other does not\n",
    "exceed the size of the box in which they are put) — otherwise, they will get damaged.\n",
    "* To put box B into box A, you must first open A and then open B.\n",
    "* To close the box, you must first close all the boxes that are in it.\n",
    "* If there are several boxes next to each other, then you need to close them in the order in which they\n",
    "were opened.\n",
    "\n",
    "Petya has already ruined a lot of boxes, but you decided to give him one last chance.\n",
    "\n",
    "Check if Petya has packed the boxes correctly.\n",
    "\n",
    "The nesting depth d(x) of box x that is not inside another box is 1. The nesting depth d(x) of box x that\n",
    "is inside box y is d(y) + 1.\n",
    "\n",
    "Check if Petya has packed the boxes correctly and find the maximum nesting depth among all the boxes.\n",
    "\n",
    "### Input\n",
    "\n",
    "The first line contains a single integer n (1 ≤ n ≤ 10 000) — the number of boxes.\n",
    "\n",
    "Each of the following 2n lines contains a character: ‘O’ (open, i.e., Petya opens the box) or ‘C’ (close, i.e.,\n",
    "Petya closes the box), and an integer s (1 ≤ s ≤ 100 000), which denotes the size of the box.\n",
    "\n",
    "### Output\n",
    "\n",
    "Print “Well done!” and an integer denoting the maximum nesting depth of the boxes if Petya has packed\n",
    "the boxes correctly, or “You are fired!” otherwise."
   ]
  },
  {
   "cell_type": "markdown",
   "metadata": {},
   "source": [
    "## Setup"
   ]
  },
  {
   "cell_type": "code",
   "execution_count": 1,
   "metadata": {
    "dotnet_interactive": {
     "language": "fsharp"
    },
    "polyglot_notebook": {
     "kernelName": "fsharp"
    },
    "vscode": {
     "languageId": "polyglot-notebook"
    }
   },
   "outputs": [],
   "source": [
    "let inputFilePath = \"input-1.txt\"\n",
    "// let inputFilePath = \"input-fail-1.txt\""
   ]
  },
  {
   "cell_type": "markdown",
   "metadata": {},
   "source": [
    "## Read in the Command Lines"
   ]
  },
  {
   "cell_type": "code",
   "execution_count": 2,
   "metadata": {
    "dotnet_interactive": {
     "language": "fsharp"
    },
    "polyglot_notebook": {
     "kernelName": "fsharp"
    },
    "vscode": {
     "languageId": "polyglot-notebook"
    }
   },
   "outputs": [],
   "source": [
    "type Command = | Open of int | Close of int | Unknown of string\n",
    "\n",
    "let lineToCommand (line: string): Command =\n",
    "    match line[0] with\n",
    "    | 'O' -> Open (Int32.Parse(line[1..]))\n",
    "    | 'C' -> Close (Int32.Parse(line[1..]))\n",
    "    | other -> Unknown line"
   ]
  },
  {
   "cell_type": "code",
   "execution_count": 3,
   "metadata": {
    "dotnet_interactive": {
     "language": "fsharp"
    },
    "polyglot_notebook": {
     "kernelName": "fsharp"
    },
    "vscode": {
     "languageId": "polyglot-notebook"
    }
   },
   "outputs": [],
   "source": [
    "open System.IO\n",
    "\n",
    "let lines = File.ReadLines(inputFilePath)\n",
    "let commands = lines |> Seq.map lineToCommand"
   ]
  },
  {
   "cell_type": "code",
   "execution_count": 4,
   "metadata": {
    "dotnet_interactive": {
     "language": "fsharp"
    },
    "polyglot_notebook": {
     "kernelName": "fsharp"
    },
    "vscode": {
     "languageId": "polyglot-notebook"
    }
   },
   "outputs": [
    {
     "data": {
      "text/html": [
       "<details open=\"open\" class=\"dni-treeview\"><summary><span class=\"dni-code-hint\"><code>[ Open 20, Open 10, Open 5, Close 5, Open 5, Open 3, Close 3, Open 2, Close 2, Close 5, Close 10, Close 20 ]</code></span></summary><div><table><thead><tr></tr></thead><tbody><tr><td>f</td><td><details class=\"dni-treeview\"><summary><span class=\"dni-code-hint\"><code>Microsoft.FSharp.Collections.SeqModule+revamp@728[System.String,FSI_0006+Command]</code></span></summary><div><table><thead><tr></tr></thead><tbody><tr><td>f</td><td><details class=\"dni-treeview\"><summary><span class=\"dni-code-hint\"><code>Microsoft.FSharp.Collections.SeqModule+Map@748-1[System.String,FSI_0006+Command]</code></span></summary><div><table><thead><tr></tr></thead><tbody><tr><td>mapping</td><td><details class=\"dni-treeview\"><summary><span class=\"dni-code-hint\"><code>FSI_0007+commands@4</code></span></summary><div><table><thead><tr></tr></thead><tbody></tbody></table></div></details></td></tr></tbody></table></div></details></td></tr><tr><td>ie</td><td><details class=\"dni-treeview\"><summary><span class=\"dni-code-hint\"><code>[ O 20, O 10, O 5, C 5, O 5, O 3, C 3, O 2, C 2, C 5, C 10, C 20 ]</code></span></summary><div><table><thead><tr></tr></thead><tbody><tr><td>Current</td><td><div class=\"dni-plaintext\"><pre>&lt;null&gt;</pre></div></td></tr><tr><td><i>(values)</i></td><td><div class=\"dni-plaintext\"><pre>[ O 20, O 10, O 5, C 5, O 5, O 3, C 3, O 2, C 2, C 5, C 10, C 20 ]</pre></div></td></tr></tbody></table></div></details></td></tr></tbody></table></div></details></td></tr><tr><td><i>(values)</i></td><td><table><thead><tr><th><i>index</i></th><th><i>type</i></th><th>value</th></tr></thead><tbody><tr><td>0</td><td>FSI_0006+Command+Open</td><td><details class=\"dni-treeview\"><summary><span class=\"dni-code-hint\"><code>Open 20</code></span></summary><div><table><thead><tr></tr></thead><tbody><tr><td>Item</td><td><div class=\"dni-plaintext\"><pre>20</pre></div></td></tr></tbody></table></div></details></td></tr><tr><td>1</td><td>FSI_0006+Command+Open</td><td><details class=\"dni-treeview\"><summary><span class=\"dni-code-hint\"><code>Open 10</code></span></summary><div><table><thead><tr></tr></thead><tbody><tr><td>Item</td><td><div class=\"dni-plaintext\"><pre>10</pre></div></td></tr></tbody></table></div></details></td></tr><tr><td>2</td><td>FSI_0006+Command+Open</td><td><details class=\"dni-treeview\"><summary><span class=\"dni-code-hint\"><code>Open 5</code></span></summary><div><table><thead><tr></tr></thead><tbody><tr><td>Item</td><td><div class=\"dni-plaintext\"><pre>5</pre></div></td></tr></tbody></table></div></details></td></tr><tr><td>3</td><td>FSI_0006+Command+Close</td><td><details class=\"dni-treeview\"><summary><span class=\"dni-code-hint\"><code>Close 5</code></span></summary><div><table><thead><tr></tr></thead><tbody><tr><td>Item</td><td><div class=\"dni-plaintext\"><pre>5</pre></div></td></tr></tbody></table></div></details></td></tr><tr><td>4</td><td>FSI_0006+Command+Open</td><td><details class=\"dni-treeview\"><summary><span class=\"dni-code-hint\"><code>Open 5</code></span></summary><div><table><thead><tr></tr></thead><tbody><tr><td>Item</td><td><div class=\"dni-plaintext\"><pre>5</pre></div></td></tr></tbody></table></div></details></td></tr><tr><td>5</td><td>FSI_0006+Command+Open</td><td><details class=\"dni-treeview\"><summary><span class=\"dni-code-hint\"><code>Open 3</code></span></summary><div><table><thead><tr></tr></thead><tbody><tr><td>Item</td><td><div class=\"dni-plaintext\"><pre>3</pre></div></td></tr></tbody></table></div></details></td></tr><tr><td>6</td><td>FSI_0006+Command+Close</td><td><details class=\"dni-treeview\"><summary><span class=\"dni-code-hint\"><code>Close 3</code></span></summary><div><table><thead><tr></tr></thead><tbody><tr><td>Item</td><td><div class=\"dni-plaintext\"><pre>3</pre></div></td></tr></tbody></table></div></details></td></tr><tr><td>7</td><td>FSI_0006+Command+Open</td><td><details class=\"dni-treeview\"><summary><span class=\"dni-code-hint\"><code>Open 2</code></span></summary><div><table><thead><tr></tr></thead><tbody><tr><td>Item</td><td><div class=\"dni-plaintext\"><pre>2</pre></div></td></tr></tbody></table></div></details></td></tr><tr><td>8</td><td>FSI_0006+Command+Close</td><td><details class=\"dni-treeview\"><summary><span class=\"dni-code-hint\"><code>Close 2</code></span></summary><div><table><thead><tr></tr></thead><tbody><tr><td>Item</td><td><div class=\"dni-plaintext\"><pre>2</pre></div></td></tr></tbody></table></div></details></td></tr><tr><td>9</td><td>FSI_0006+Command+Close</td><td><details class=\"dni-treeview\"><summary><span class=\"dni-code-hint\"><code>Close 5</code></span></summary><div><table><thead><tr></tr></thead><tbody><tr><td>Item</td><td><div class=\"dni-plaintext\"><pre>5</pre></div></td></tr></tbody></table></div></details></td></tr><tr><td>10</td><td>FSI_0006+Command+Close</td><td><details class=\"dni-treeview\"><summary><span class=\"dni-code-hint\"><code>Close 10</code></span></summary><div><table><thead><tr></tr></thead><tbody><tr><td>Item</td><td><div class=\"dni-plaintext\"><pre>10</pre></div></td></tr></tbody></table></div></details></td></tr><tr><td>11</td><td>FSI_0006+Command+Close</td><td><details class=\"dni-treeview\"><summary><span class=\"dni-code-hint\"><code>Close 20</code></span></summary><div><table><thead><tr></tr></thead><tbody><tr><td>Item</td><td><div class=\"dni-plaintext\"><pre>20</pre></div></td></tr></tbody></table></div></details></td></tr></tbody></table></td></tr></tbody></table></div></details><style>\r\n",
       ".dni-code-hint {\r\n",
       "    font-style: italic;\r\n",
       "    overflow: hidden;\r\n",
       "    white-space: nowrap;\r\n",
       "}\r\n",
       ".dni-treeview {\r\n",
       "    white-space: nowrap;\r\n",
       "}\r\n",
       ".dni-treeview td {\r\n",
       "    vertical-align: top;\r\n",
       "    text-align: start;\r\n",
       "}\r\n",
       "details.dni-treeview {\r\n",
       "    padding-left: 1em;\r\n",
       "}\r\n",
       "table td {\r\n",
       "    text-align: start;\r\n",
       "}\r\n",
       "table tr { \r\n",
       "    vertical-align: top; \r\n",
       "    margin: 0em 0px;\r\n",
       "}\r\n",
       "table tr td pre \r\n",
       "{ \r\n",
       "    vertical-align: top !important; \r\n",
       "    margin: 0em 0px !important;\r\n",
       "} \r\n",
       "table th {\r\n",
       "    text-align: start;\r\n",
       "}\r\n",
       "</style>"
      ]
     },
     "metadata": {},
     "output_type": "display_data"
    }
   ],
   "source": [
    "commands"
   ]
  },
  {
   "cell_type": "markdown",
   "metadata": {},
   "source": [
    "## Model the Boxes"
   ]
  },
  {
   "cell_type": "code",
   "execution_count": 5,
   "metadata": {
    "dotnet_interactive": {
     "language": "fsharp"
    },
    "polyglot_notebook": {
     "kernelName": "fsharp"
    },
    "vscode": {
     "languageId": "polyglot-notebook"
    }
   },
   "outputs": [],
   "source": [
    "type BoxState = | Opened | Closed\n",
    "\n",
    "type Box = {state: BoxState; size: int; openedChildren: Box list; closedChildren: Box list }\n",
    "\n",
    "let totalBoxSize (boxList: Box list): int =\n",
    "    boxList |> List.map (fun box -> box.size) |> List.sum\n",
    "\n",
    "let isCloseable (box: Box): bool =\n",
    "    box.openedChildren.IsEmpty\n",
    "\n",
    "let sizeRemaining (box: Box): int =\n",
    "    box.size - (totalBoxSize box.openedChildren) - (totalBoxSize box.closedChildren)\n",
    "\n",
    "let checkChildrenFit (box: Box): bool =\n",
    "    (sizeRemaining box) >= 0\n",
    "\n",
    "let closeFirstOpenChild (box:Box): Box =\n",
    "    if (box.state = Closed)\n",
    "    then box\n",
    "    else\n",
    "        match box.openedChildren with\n",
    "        | head::tail ->\n",
    "            let newState = if (tail.IsEmpty) then Closed else Opened\n",
    "            {box with state = newState; openedChildren = tail; closedChildren = {head with state = Closed}::box.closedChildren}\n",
    "        | other -> box\n",
    "\n",
    "let boxSummary (box:Box) = ((if (box.state = Opened) then 'O' else 'C'), box.size, sizeRemaining box)"
   ]
  },
  {
   "cell_type": "markdown",
   "metadata": {},
   "source": [
    "## Model the Command Processing"
   ]
  },
  {
   "cell_type": "code",
   "execution_count": 6,
   "metadata": {
    "dotnet_interactive": {
     "language": "fsharp"
    },
    "polyglot_notebook": {
     "kernelName": "fsharp"
    },
    "vscode": {
     "languageId": "polyglot-notebook"
    }
   },
   "outputs": [],
   "source": [
    "type BoxStack = Box list\n",
    "\n",
    "type ProcessStatus = {stack: BoxStack; maxDepth: int}\n",
    "\n",
    "let initProcessStatus = {stack = []; maxDepth = 0}\n",
    "\n",
    "// Close the box that is the head of the stack.  That means:\n",
    "// * If the box that is the head is closed, return the stack unchanged.\n",
    "// * Remove that box that is the head of the stack (no need to a actually close it).\n",
    "// * If the box that is the new head has open children,\n",
    "//   close the first open child (which is same asthe old head)\n",
    "//   and make the second open child (if any) the \"new new\" head.\n",
    "let closeStackHead (stack: BoxStack): BoxStack =\n",
    "    match stack with\n",
    "    | [] -> [] // nothing to close\n",
    "    | head::tail ->\n",
    "        if (head.state = Closed)\n",
    "        then stack\n",
    "        else // tail is the new stack, unless it is empty\n",
    "            match tail with\n",
    "            | [] ->\n",
    "                if (head.state = Closed)\n",
    "                then stack\n",
    "                else [{head with state = Closed}] // always leave the last box on the stack, so we can see if it was closed\n",
    "            | head2::tail2 -> // close first open child of new top of new stack\n",
    "                match head2.openedChildren with\n",
    "                | [] -> tail\n",
    "                | openHead::openTail ->\n",
    "                    match openTail with\n",
    "                    | [] ->\n",
    "                        {head2 with openedChildren = []; closedChildren = {openHead with state = Closed}::head2.closedChildren}::tail2\n",
    "                    | openHead2::openTail2 ->\n",
    "                        openHead2::{head2 with openedChildren = openTail; closedChildren = {openHead with state = Closed}::head2.closedChildren}::tail2"
   ]
  },
  {
   "cell_type": "markdown",
   "metadata": {},
   "source": [
    "We want to 'fold' across the commands and get an updated process status each time."
   ]
  },
  {
   "cell_type": "code",
   "execution_count": 7,
   "metadata": {
    "dotnet_interactive": {
     "language": "fsharp"
    },
    "polyglot_notebook": {
     "kernelName": "fsharp"
    },
    "vscode": {
     "languageId": "polyglot-notebook"
    }
   },
   "outputs": [],
   "source": [
    "let processCommand (status: ProcessStatus option) (command: Command): ProcessStatus option =\n",
    "    match status with\n",
    "    | None -> None // command processing has already failed\n",
    "    | Some status ->\n",
    "        printfn \"stack: %A (max %d)\" (status.stack |> Seq.map boxSummary) status.maxDepth\n",
    "        printfn \"command: %A\" command // TODO: remove debugging\n",
    "        let stack = status.stack\n",
    "        match command with\n",
    "        | Unknown line -> None // TODO\n",
    "        | Close closeSize ->\n",
    "            if (stack.Head.state = Closed)\n",
    "            then None // can't close a box that is already closed\n",
    "            else\n",
    "                if (closeSize <> stack.Head.size)\n",
    "                then None // trying to close the wrong size of box\n",
    "                else\n",
    "                    match stack with\n",
    "                    | [] -> None\n",
    "                    | head::tail ->\n",
    "                        if (tail.IsEmpty)\n",
    "                        then\n",
    "                            let closedHead = {head with state = Closed}\n",
    "                            Some {status with stack = [closedHead]} // always leave the last element on the stack\n",
    "                        else\n",
    "                            let newStack = closeStackHead stack\n",
    "                            match newStack.Head.openedChildren with\n",
    "                            | [] -> Some {status with stack = newStack}\n",
    "                            | openHead::openTail ->\n",
    "                                Some {status with stack = openHead::newStack}\n",
    "        | Open openSize ->\n",
    "            let stack = status.stack\n",
    "            match stack with\n",
    "            | [] ->\n",
    "                let box = {state = Opened; size = openSize; openedChildren = []; closedChildren = []}\n",
    "                Some {stack = [box]; maxDepth = 1}\n",
    "            | head::tail ->\n",
    "                if (openSize > (sizeRemaining head))\n",
    "                then None // not enough room in box for new box\n",
    "                else\n",
    "                    let box = {state = Opened; size = openSize; openedChildren = []; closedChildren = []}\n",
    "                    let newHead = {head with openedChildren = box::head.openedChildren}\n",
    "                    let newStack = box::newHead::tail\n",
    "                    Some {stack = newStack; maxDepth = List.max [status.maxDepth; newStack.Length]}"
   ]
  },
  {
   "cell_type": "markdown",
   "metadata": {},
   "source": [
    "## Calculate the Result"
   ]
  },
  {
   "cell_type": "code",
   "execution_count": 8,
   "metadata": {
    "dotnet_interactive": {
     "language": "fsharp"
    },
    "polyglot_notebook": {
     "kernelName": "fsharp"
    },
    "vscode": {
     "languageId": "polyglot-notebook"
    }
   },
   "outputs": [
    {
     "name": "stdout",
     "output_type": "stream",
     "text": [
      "stack: seq [] (max 0)\n",
      "command: Open 20\n",
      "stack: seq [('O', 20, 20)] (max 1)\n",
      "command: Open 10\n",
      "stack: seq [('O', 10, 10); ('O', 20, 10)] (max 2)\n",
      "command: Open 5\n",
      "stack: seq [('O', 5, 5); ('O', 10, 5); ('O', 20, 10)] (max 3)\n",
      "command: Close 5\n",
      "stack: seq [('O', 10, 5); ('O', 20, 10)] (max 3)\n",
      "command: Open 5\n",
      "stack: seq [('O', 5, 5); ('O', 10, 0); ('O', 20, 10)] (max 3)\n",
      "command: Open 3\n",
      "stack: seq [('O', 3, 3); ('O', 5, 2); ('O', 10, 0); ('O', 20, 10)] (max 4)\n",
      "command: Close 3\n",
      "stack: seq [('O', 5, 2); ('O', 10, 0); ('O', 20, 10)] (max 4)\n",
      "command: Open 2\n",
      "stack: seq [('O', 2, 2); ('O', 5, 0); ('O', 10, 0); ('O', 20, 10)] (max 4)\n",
      "command: Close 2\n",
      "stack: seq [('O', 5, 0); ('O', 10, 0); ('O', 20, 10)] (max 4)\n",
      "command: Close 5\n",
      "stack: seq [('O', 10, 0); ('O', 20, 10)] (max 4)\n",
      "command: Close 10\n",
      "stack: seq [('O', 20, 10)] (max 4)\n",
      "command: Close 20\n",
      "Well done!\n"
     ]
    }
   ],
   "source": [
    "let result = commands |> Seq.fold processCommand (Some initProcessStatus)\n",
    "\n",
    "let finalResult =\n",
    "    match result with\n",
    "    | Some status ->\n",
    "        if ((status.stack.Length = 1) && (status.stack.Head.state = Closed))\n",
    "        then Some status\n",
    "        else None\n",
    "    | None -> None\n",
    "\n",
    "match finalResult with\n",
    "| Some status -> printfn \"Well done!\"\n",
    "| None -> printfn \"You are fired!\""
   ]
  },
  {
   "cell_type": "markdown",
   "metadata": {},
   "source": [
    "And if it was a success, print the maximum box depth."
   ]
  },
  {
   "cell_type": "code",
   "execution_count": 9,
   "metadata": {
    "dotnet_interactive": {
     "language": "fsharp"
    },
    "polyglot_notebook": {
     "kernelName": "fsharp"
    },
    "vscode": {
     "languageId": "polyglot-notebook"
    }
   },
   "outputs": [
    {
     "name": "stdout",
     "output_type": "stream",
     "text": [
      "Max depth is 4\n"
     ]
    }
   ],
   "source": [
    "if (finalResult.IsSome)\n",
    "then\n",
    "    printfn \"Max depth is %d\" finalResult.Value.maxDepth"
   ]
  }
 ],
 "metadata": {
  "language_info": {
   "name": "python"
  }
 },
 "nbformat": 4,
 "nbformat_minor": 2
}
